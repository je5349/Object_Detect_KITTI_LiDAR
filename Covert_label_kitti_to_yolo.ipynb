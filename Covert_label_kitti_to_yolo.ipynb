{
 "cells": [
  {
   "cell_type": "code",
   "execution_count": 7,
   "id": "4a2459ab",
   "metadata": {},
   "outputs": [],
   "source": [
    "##!pip install Pillow==7.2.0\n",
    "##!pip install cycler==0.10.0\n",
    "#!pip install kiwisolver==1.0.1\n",
    "#!pip install matplotlib==2.2.2\n",
    "#!pip install numpy==1.14.3\n",
    "#!pip install pyparsing==2.2.0\n",
    "##!pip install python-dateutil==2.7.2\n",
    "##!pip install pytz==2018.4\n",
    "##!pip install six==1.11.0"
   ]
  },
  {
   "cell_type": "code",
   "execution_count": 18,
   "id": "ab401a0b",
   "metadata": {},
   "outputs": [
    {
     "name": "stdout",
     "output_type": "stream",
     "text": [
      "\r\n",
      "KITTI Parsing:|----------------------------------------| 0.0% (0/10)  Complete\r",
      "\r",
      "KITTI Parsing: |████------------------------------------| 10.0% (1/10)  Complete\r",
      "\r",
      "KITTI Parsing: |████████--------------------------------| 20.0% (2/10)  Complete\r",
      "\r",
      "KITTI Parsing: |████████████----------------------------| 30.0% (3/10)  Complete\r",
      "\r",
      "KITTI Parsing: |████████████████------------------------| 40.0% (4/10)  Complete\r",
      "\r",
      "KITTI Parsing: |████████████████████--------------------| 50.0% (5/10)  Complete\r",
      "\r",
      "KITTI Parsing: |████████████████████████----------------| 60.0% (6/10)  Complete\r",
      "\r",
      "KITTI Parsing: |████████████████████████████------------| 70.0% (7/10)  Complete\r",
      "\r",
      "KITTI Parsing: |████████████████████████████████--------| 80.0% (8/10)  Complete\r",
      "\r",
      "KITTI Parsing: |████████████████████████████████████----| 90.0% (9/10)  Complete\r",
      "\r",
      "KITTI Parsing: |████████████████████████████████████████| 100.0% (10/10)  Complete\r\n",
      "\n",
      "\r\n",
      "YOLO Generating:|----------------------------------------| 0.0% (0/10)  Complete\r",
      "\r",
      "YOLO Generating:|████------------------------------------| 10.0% (1/10)  Complete\r",
      "\r",
      "YOLO Generating:|████████--------------------------------| 20.0% (2/10)  Complete\r",
      "\r",
      "YOLO Generating:|████████████----------------------------| 30.0% (3/10)  Complete\r",
      "\r",
      "YOLO Generating:|████████████████------------------------| 40.0% (4/10)  Complete\r",
      "\r",
      "YOLO Generating:|████████████████████--------------------| 50.0% (5/10)  Complete\r",
      "\r",
      "YOLO Generating:|████████████████████████----------------| 60.0% (6/10)  Complete\r",
      "\r",
      "YOLO Generating:|████████████████████████████------------| 70.0% (7/10)  Complete\r",
      "\r",
      "YOLO Generating:|████████████████████████████████--------| 80.0% (8/10)  Complete\r",
      "\r",
      "YOLO Generating:|████████████████████████████████████----| 90.0% (9/10)  Complete\r",
      "\r",
      "YOLO Generating:|████████████████████████████████████████| 100.0% (10/10)  Complete\r\n",
      "\n",
      "\r\n",
      "YOLO Saving:  |----------------------------------------| 0.0% (0/10)  Complete\r",
      "\r",
      "YOLO Saving:   |████------------------------------------| 10.0% (1/10)  Complete\r",
      "\r",
      "YOLO Saving:   |████████--------------------------------| 20.0% (2/10)  Complete\r",
      "\r",
      "YOLO Saving:   |████████████----------------------------| 30.0% (3/10)  Complete\r",
      "\r",
      "YOLO Saving:   |████████████████------------------------| 40.0% (4/10)  Complete\r",
      "\r",
      "YOLO Saving:   |████████████████████--------------------| 50.0% (5/10)  Complete\r",
      "\r",
      "YOLO Saving:   |████████████████████████----------------| 60.0% (6/10)  Complete\r",
      "\r",
      "YOLO Saving:   |████████████████████████████------------| 70.0% (7/10)  Complete\r",
      "\r",
      "YOLO Saving:   |████████████████████████████████--------| 80.0% (8/10)  Complete\r",
      "\r",
      "YOLO Saving:   |████████████████████████████████████----| 90.0% (9/10)  Complete\r",
      "\r",
      "YOLO Saving:   |████████████████████████████████████████| 100.0% (10/10)  Complete\r\n",
      "\n"
     ]
    }
   ],
   "source": [
    "%run -i example.py --datasets KITTI --img_path ./new_dataset/training/image_2 --label ./new_dataset/training/label_2 --convert_output_path ./new_dataset/training/label_results --img_type \".png\" --manifest_path ./ --cls_list_file names.txt"
   ]
  },
  {
   "cell_type": "code",
   "execution_count": null,
   "id": "910c8115",
   "metadata": {},
   "outputs": [],
   "source": []
  }
 ],
 "metadata": {
  "kernelspec": {
   "display_name": "Python 3",
   "language": "python",
   "name": "python3"
  },
  "language_info": {
   "codemirror_mode": {
    "name": "ipython",
    "version": 3
   },
   "file_extension": ".py",
   "mimetype": "text/x-python",
   "name": "python",
   "nbconvert_exporter": "python",
   "pygments_lexer": "ipython3",
   "version": "3.8.10"
  }
 },
 "nbformat": 4,
 "nbformat_minor": 5
}
